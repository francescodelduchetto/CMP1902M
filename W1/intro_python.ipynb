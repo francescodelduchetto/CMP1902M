{
 "cells": [
  {
   "cell_type": "markdown",
   "metadata": {},
   "source": [
    "# Welcome to the first CMP1902M workshop!"
   ]
  },
  {
   "cell_type": "markdown",
   "metadata": {},
   "source": [
    "# Week 1 – The Basics \n",
    "## Introduction\n",
    "\n",
    "Programming, writing code, is the process of writing **instructions** in a structured format so that a computer can understand them and then follow them out (**execute** them). Most code also requires **data** of some kind, which is information that we store in the computer.\n",
    "\n",
    "For example: you might write a program that sends you a reminder a week before your assignment is due. Here are some *instructions* for this program:\n",
    "1. Find the current date (date1)\n",
    "2. Find the date of your assignment (date2)\n",
    "3. Check if the number of days between date1 and date2 is equal to 7...\n",
    " * ...and if so, show you the reminder\n",
    "\n",
    "In order to go from your abstract instructions in your mind, like the one above, to a program that can acually run on a computer you need a few other things to sort out. The first is the fact that you need to use a **programming language**, which can be seen as a *natural language* (like the one we used to define the program above), but one that computers can understand. \n",
    "\n",
    "There is a wide variety of programming languages out there, some are very different from our *natural language* and required to express our instructions in a completely different way. Others, instead, are closer to the *natural language*. **You are in luck for this course**, we use the **Python 3** language, which belongs to the second group."
   ]
  },
  {
   "cell_type": "markdown",
   "metadata": {},
   "source": [
    "## Python notebooks\n",
    "\n",
    "Python code can be executed in many different ways. One of them is through Python *notebooks*. **This document is a Python notebook**. A notebook is composed of a sequence of blocks, each containing either text or code. The text blocks are used to provide descriptions and explanations, instead the code blocks can be executed by your computer providing you with the result of the computation.\n",
    "\n",
    "**This is a text block**, it cannot be executed."
   ]
  },
  {
   "cell_type": "code",
   "execution_count": 73,
   "metadata": {},
   "outputs": [
    {
     "name": "stdout",
     "output_type": "stream",
     "text": [
      "Good job! You have executed Python code!\n"
     ]
    }
   ],
   "source": [
    "# This is a code block. It can be executed by: \n",
    "#    1. selecting this block clicking on it with the mouse;\n",
    "#    2. clicking on the triangle icon (\"Run\") on the top bar;\n",
    "#    3. the result will appear right after this block.\n",
    "\n",
    "print(\"Good job! You have executed Python code!\")"
   ]
  },
  {
   "cell_type": "markdown",
   "metadata": {},
   "source": [
    "## NOTE: Python notebooks are **not** the only way of running code!\n",
    "\n",
    "During this module you will run code in different ways, i.e. from the terminal and running entire programs as executables. For this first workshop you will be using notebooks because it is more simple and intutive to use."
   ]
  },
  {
   "cell_type": "markdown",
   "metadata": {},
   "source": [
    "# Visualising output\n",
    "\n",
    "We begin our journey into programming by looking at how the result of your code can be shown in output.  "
   ]
  },
  {
   "cell_type": "markdown",
   "metadata": {},
   "source": [
    "The simplest way is to just write the text, or number, that you want to show. (Note this modality does not work with python scripts)"
   ]
  },
  {
   "cell_type": "code",
   "execution_count": 74,
   "metadata": {},
   "outputs": [
    {
     "data": {
      "text/plain": [
       "'Hi there'"
      ]
     },
     "execution_count": 74,
     "metadata": {},
     "output_type": "execute_result"
    }
   ],
   "source": [
    "\"Hi there\""
   ]
  },
  {
   "cell_type": "code",
   "execution_count": 75,
   "metadata": {},
   "outputs": [
    {
     "data": {
      "text/plain": [
       "12"
      ]
     },
     "execution_count": 75,
     "metadata": {},
     "output_type": "execute_result"
    }
   ],
   "source": [
    "12"
   ]
  },
  {
   "cell_type": "code",
   "execution_count": 76,
   "metadata": {},
   "outputs": [
    {
     "data": {
      "text/plain": [
       "12"
      ]
     },
     "execution_count": 76,
     "metadata": {},
     "output_type": "execute_result"
    }
   ],
   "source": [
    "\"Hi there\"\n",
    "12"
   ]
  },
  {
   "cell_type": "markdown",
   "metadata": {},
   "source": [
    "However, as you may have noticed, if you want to show multiple outputs this modality does not help much. It only shows the last element you wrote.\n",
    "\n",
    "To most common way to show outputs in Python is tu use the function `print()`. This works also in Python scripts and allows you to show stuff as many times as you like. "
   ]
  },
  {
   "cell_type": "code",
   "execution_count": 77,
   "metadata": {},
   "outputs": [
    {
     "name": "stdout",
     "output_type": "stream",
     "text": [
      "Hello world!\n"
     ]
    }
   ],
   "source": [
    "print(\"Hello world!\")"
   ]
  },
  {
   "cell_type": "code",
   "execution_count": 78,
   "metadata": {},
   "outputs": [
    {
     "name": "stdout",
     "output_type": "stream",
     "text": [
      "1902\n"
     ]
    }
   ],
   "source": [
    "print(1902)"
   ]
  },
  {
   "cell_type": "code",
   "execution_count": 79,
   "metadata": {},
   "outputs": [
    {
     "name": "stdout",
     "output_type": "stream",
     "text": [
      "Hello world!\n",
      "1902\n"
     ]
    }
   ],
   "source": [
    "print(\"Hello world!\")\n",
    "print(1902)"
   ]
  },
  {
   "cell_type": "markdown",
   "metadata": {},
   "source": [
    "## **Do it yourself**\n",
    "In the next code block, write a program that shows:\n",
    "- your name\n",
    "- your age\n",
    "- your favourite band\n",
    "- your favourite food"
   ]
  },
  {
   "cell_type": "code",
   "execution_count": 80,
   "metadata": {},
   "outputs": [],
   "source": [
    "# write your code here ...\n"
   ]
  },
  {
   "cell_type": "markdown",
   "metadata": {},
   "source": [
    "# Expressions\n",
    "### Arithmetic\n",
    "\n",
    "Have a look at the following example of some Python code:"
   ]
  },
  {
   "cell_type": "code",
   "execution_count": 81,
   "metadata": {},
   "outputs": [
    {
     "data": {
      "text/plain": [
       "7"
      ]
     },
     "execution_count": 81,
     "metadata": {},
     "output_type": "execute_result"
    }
   ],
   "source": [
    "4 + 3"
   ]
  },
  {
   "cell_type": "markdown",
   "metadata": {},
   "source": [
    "Doing some basic maths in programming is very common. Earlier you saw an example where we might want to find the length of time between two dates – a surprisingly tricky task, depending on the dates involved. Solving it requires not just knowledge of programming **syntax** (e.g. Python) but a bunch of logic and a bit of maths as well.\n",
    "\n",
    "Python supports many arthmetic **operations**: addition `+`, subtraction `-`, mutiplication `*`, division `/` and more. \n",
    "\n",
    "This piece of code is called an **expression**. It has a value which we can **evaluate**."
   ]
  },
  {
   "cell_type": "code",
   "execution_count": 82,
   "metadata": {},
   "outputs": [
    {
     "data": {
      "text/plain": [
       "6"
      ]
     },
     "execution_count": 82,
     "metadata": {},
     "output_type": "execute_result"
    }
   ],
   "source": [
    "2 + 4"
   ]
  },
  {
   "cell_type": "markdown",
   "metadata": {},
   "source": [
    "When we *evaluate* `2+4` we get `6`. \n",
    "\n",
    "*Remember: you can change the code inside jupyter cells to see what the results would be with different numbers. Try changing the numbers above and rerunning the cell!*"
   ]
  },
  {
   "cell_type": "markdown",
   "metadata": {},
   "source": [
    "## **Do it yourself**\n",
    "In the next code block, write a program that shows:\n",
    "- the sum of *your age* and the *number of pets* you have\n",
    "- *your age* divided by `100`"
   ]
  },
  {
   "cell_type": "code",
   "execution_count": null,
   "metadata": {},
   "outputs": [],
   "source": [
    "# write your code here..."
   ]
  },
  {
   "cell_type": "markdown",
   "metadata": {},
   "source": [
    "#### Code Structure\n",
    "To be able to *write* code we need to know how the computer will *read* it. A lot of the time a single line of code will do more than one thing. Luckily, it is always possible to work out the order in which everything happens.\n",
    "\n",
    "In maths there is an *order of precedence*, which says that multiplication is always performed before addition (you may have come across BODMAS, BIDMAS, PEMDAS, etc). Arithmetic expressions in Python follow this order as well. So if we write code like this..."
   ]
  },
  {
   "cell_type": "code",
   "execution_count": 83,
   "metadata": {},
   "outputs": [
    {
     "data": {
      "text/plain": [
       "10"
      ]
     },
     "execution_count": 83,
     "metadata": {},
     "output_type": "execute_result"
    }
   ],
   "source": [
    "4 + 3 * 2"
   ]
  },
  {
   "cell_type": "markdown",
   "metadata": {},
   "source": [
    "then sure enough, Python will follow the normal rules. \n",
    "\n",
    "This code\n",
    "```python\n",
    "4 + 3 * 2\n",
    "```\n",
    "evaluates to `10`. We do `3 * 2` first, which is `6`, and then add `4`, to get `10`.\n",
    "\n",
    "As with regular arithmetic, we can use parentheses to change the order:"
   ]
  },
  {
   "cell_type": "code",
   "execution_count": 84,
   "metadata": {},
   "outputs": [
    {
     "data": {
      "text/plain": [
       "14"
      ]
     },
     "execution_count": 84,
     "metadata": {},
     "output_type": "execute_result"
    }
   ],
   "source": [
    "(4 + 3) * 2"
   ]
  },
  {
   "cell_type": "code",
   "execution_count": 85,
   "metadata": {},
   "outputs": [
    {
     "data": {
      "text/plain": [
       "-2"
      ]
     },
     "execution_count": 85,
     "metadata": {},
     "output_type": "execute_result"
    }
   ],
   "source": [
    "1 - (2 + 1)"
   ]
  },
  {
   "cell_type": "code",
   "execution_count": 86,
   "metadata": {},
   "outputs": [
    {
     "data": {
      "text/plain": [
       "0"
      ]
     },
     "execution_count": 86,
     "metadata": {},
     "output_type": "execute_result"
    }
   ],
   "source": [
    "(1 - 2) + 1"
   ]
  },
  {
   "cell_type": "markdown",
   "metadata": {},
   "source": [
    "## **Do it yourself**\n",
    "In the next code block, write a program that shows: the *average age* of the people living in your house.\n",
    "To compute the average:\n",
    "- *sum the ages* of all the people\n",
    "- divide the sum by the *number of people*"
   ]
  },
  {
   "cell_type": "code",
   "execution_count": null,
   "metadata": {},
   "outputs": [],
   "source": [
    "# write your code here..."
   ]
  },
  {
   "cell_type": "markdown",
   "metadata": {},
   "source": [
    "### Booleans\n",
    "We use numbers a lot in programming, but we use other things too. A Boolean (named after [George Boole](https://en.wikipedia.org/wiki/George_Boole)) is a value that is either true or false. There are many ways you could write these:\n",
    "* true, false\n",
    "* T, F\n",
    "* 1, 0\n",
    "\n",
    "In Python, we write `True` and `False` (notice the T and F are upper case)."
   ]
  },
  {
   "cell_type": "code",
   "execution_count": 87,
   "metadata": {},
   "outputs": [
    {
     "data": {
      "text/plain": [
       "True"
      ]
     },
     "execution_count": 87,
     "metadata": {},
     "output_type": "execute_result"
    }
   ],
   "source": [
    "True"
   ]
  },
  {
   "cell_type": "code",
   "execution_count": 88,
   "metadata": {},
   "outputs": [
    {
     "data": {
      "text/plain": [
       "False"
      ]
     },
     "execution_count": 88,
     "metadata": {},
     "output_type": "execute_result"
    }
   ],
   "source": [
    "False"
   ]
  },
  {
   "cell_type": "markdown",
   "metadata": {},
   "source": [
    "Boolean values are the result of *evaluations* which are used to compare two different values. The result of evaluations is either `True` or `False`. \n",
    "\n",
    "For example, you can evaluate whether 2 values are the same, with the `==` operator..."
   ]
  },
  {
   "cell_type": "code",
   "execution_count": 89,
   "metadata": {},
   "outputs": [
    {
     "name": "stdout",
     "output_type": "stream",
     "text": [
      "True\n",
      "False\n"
     ]
    }
   ],
   "source": [
    "print(2.5 == 2.5)\n",
    "print(\"hello\" == \"Hello\")"
   ]
  },
  {
   "cell_type": "markdown",
   "metadata": {},
   "source": [
    "whether they are different, using the `!=` operator..."
   ]
  },
  {
   "cell_type": "code",
   "execution_count": 90,
   "metadata": {},
   "outputs": [
    {
     "name": "stdout",
     "output_type": "stream",
     "text": [
      "False\n",
      "True\n"
     ]
    }
   ],
   "source": [
    "print(2.5 != 2.5)\n",
    "print(\"hello\" != \"Hello\")"
   ]
  },
  {
   "cell_type": "markdown",
   "metadata": {},
   "source": [
    "and, whether they on is greater than the other (`>`), smaller (`<`), greater or equal(`>=`), smaller or equal (`<=`)..."
   ]
  },
  {
   "cell_type": "code",
   "execution_count": 91,
   "metadata": {},
   "outputs": [
    {
     "name": "stdout",
     "output_type": "stream",
     "text": [
      "True\n",
      "False\n",
      "True\n",
      "True\n",
      "False\n"
     ]
    }
   ],
   "source": [
    "print(2.1 > 2)\n",
    "print(2.1 > 2.1)\n",
    "print(2.1 >= 2.1)\n",
    "print(101 < 201)\n",
    "print(101 <= 100)"
   ]
  },
  {
   "cell_type": "markdown",
   "metadata": {},
   "source": [
    "## **Do it yourself**\n",
    "In the next code block, write a program that shows: \n",
    "- whether *your age* is *smaller-or-equal* than the *average age in your house*"
   ]
  },
  {
   "cell_type": "code",
   "execution_count": null,
   "metadata": {},
   "outputs": [],
   "source": [
    "# write your code here...\n"
   ]
  }
 ],
 "metadata": {
  "kernelspec": {
   "display_name": "Python 3.7.7 64-bit",
   "language": "python",
   "name": "python3"
  },
  "language_info": {
   "codemirror_mode": {
    "name": "ipython",
    "version": 3
   },
   "file_extension": ".py",
   "mimetype": "text/x-python",
   "name": "python",
   "nbconvert_exporter": "python",
   "pygments_lexer": "ipython3",
   "version": "3.7.7"
  },
  "vscode": {
   "interpreter": {
    "hash": "e774977668b7c0ae8309835a5187aa7fbf7669e7d0bb59755bc63e573643edcd"
   }
  }
 },
 "nbformat": 4,
 "nbformat_minor": 2
}
